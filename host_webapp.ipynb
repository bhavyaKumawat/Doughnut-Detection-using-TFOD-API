{
 "cells": [
  {
   "cell_type": "markdown",
   "id": "9a646eca",
   "metadata": {},
   "source": [
    "### Create a webapp using Azure App Service"
   ]
  },
  {
   "cell_type": "markdown",
   "id": "d0e6faa0",
   "metadata": {},
   "source": [
    "* Change directory\n",
    "> <code>cd webapp</code><br>\n",
    "* Sign in to Azure\n",
    "> <code>az login</code><br>\n",
    "* Create a virtual environment\n",
    "> <code>python3 -m venv .venv</code><br>\n",
    "  <code>source .venv/bin/activate</code><br>\n",
    "* Upgrade PIP\n",
    "> <code>pip install --upgrade pip</code><br>\n",
    "* Install dependencies\n",
    "> <code>pip install -r requirements.txt</code><br>\n",
    "* Run the development server\n",
    "> <code>flask run</code><br>\n",
    "* Set the default resource group and location for all commands\n",
    "> <code>az configure --defaults group=Doughnut-Detection</code><br>\n",
    "  <code>az configure --defaults location=centralindia</code><br>\n",
    "* Create an App Service Plan\n",
    "> <code>az appservice plan create --name app_service_plan --resource-group Doughnut-Detection --sku B1 --is-linux</code><br>\n",
    "* Create a webapp and deploy code from a local workspace to the app\n",
    "> <code>az webapp up --sku B1 --name doughnut-detector --plan app_service_plan</code><br>\n",
    "* Browse to the app\n",
    "> <a href = \"http://doughnut-detector.azurewebsites.net\">http://doughnut-detector.azurewebsites.net<a>"
   ]
  }
 ],
 "metadata": {
  "kernelspec": {
   "display_name": "Python 3",
   "language": "python",
   "name": "python3"
  },
  "language_info": {
   "codemirror_mode": {
    "name": "ipython",
    "version": 3
   },
   "file_extension": ".py",
   "mimetype": "text/x-python",
   "name": "python",
   "nbconvert_exporter": "python",
   "pygments_lexer": "ipython3",
   "version": "3.7.6"
  }
 },
 "nbformat": 4,
 "nbformat_minor": 5
}
